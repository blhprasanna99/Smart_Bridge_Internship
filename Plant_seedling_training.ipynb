{
  "nbformat": 4,
  "nbformat_minor": 0,
  "metadata": {
    "colab": {
      "name": "Plant_seedling_training.ipynb",
      "provenance": []
    },
    "kernelspec": {
      "name": "python3",
      "display_name": "Python 3"
    }
  },
  "cells": [
    {
      "cell_type": "code",
      "metadata": {
        "id": "NS04grNUPVCK",
        "colab_type": "code",
        "colab": {}
      },
      "source": [
        ""
      ],
      "execution_count": 0,
      "outputs": []
    },
    {
      "cell_type": "code",
      "metadata": {
        "id": "Mdv4JhBSUzf9",
        "colab_type": "code",
        "colab": {}
      },
      "source": [
        "from google.colab import drive\n",
        "drive.mount('/content/drive')"
      ],
      "execution_count": 0,
      "outputs": []
    },
    {
      "cell_type": "code",
      "metadata": {
        "id": "o2p9kzcUVHn6",
        "colab_type": "code",
        "colab": {}
      },
      "source": [
        "from keras.preprocessing.image import ImageDataGenerator \n",
        "from keras.models import Sequential \n",
        "from keras.layers import Conv2D, MaxPooling2D \n",
        "from keras.layers import Activation, Dropout, Flatten, Dense \n",
        "from keras import backend as K \n",
        "  \n",
        "img_width, img_height = 224, 224"
      ],
      "execution_count": 0,
      "outputs": []
    },
    {
      "cell_type": "code",
      "metadata": {
        "id": "_wLocgETVHit",
        "colab_type": "code",
        "colab": {}
      },
      "source": [
        "train_data_dir = '/content/drive/My Drive/Train_Test_Plant_seedling/Train_Test_Plant_seedling (1)/train_set'\n",
        "validation_data_dir = '/content/drive/My Drive/Train_Test_Plant_seedling/Train_Test_Plant_seedling (1)/test_set'\n",
        "nb_train_samples = 400 \n",
        "nb_validation_samples = 100\n",
        "epochs = 10\n",
        "batch_size = 16\n",
        "  "
      ],
      "execution_count": 0,
      "outputs": []
    },
    {
      "cell_type": "code",
      "metadata": {
        "id": "xBb6GvI9YLQG",
        "colab_type": "code",
        "colab": {}
      },
      "source": [
        "if K.image_data_format() == 'channels_first': \n",
        "    input_shape = (3, img_width, img_height) \n",
        "else: \n",
        "    input_shape = (img_width, img_height, 3) \n",
        "  "
      ],
      "execution_count": 0,
      "outputs": []
    },
    {
      "cell_type": "code",
      "metadata": {
        "id": "d2O6hmcggbSQ",
        "colab_type": "code",
        "colab": {}
      },
      "source": [
        "model = Sequential() \n",
        "model.add(Conv2D(32, (2, 2), input_shape = input_shape)) \n",
        "model.add(Activation('relu')) \n",
        "model.add(MaxPooling2D(pool_size =(2, 2))) \n",
        "  \n",
        "model.add(Conv2D(32, (2, 2))) \n",
        "model.add(Activation('relu')) \n",
        "model.add(MaxPooling2D(pool_size =(2, 2))) \n",
        "  \n",
        "model.add(Conv2D(64, (2, 2))) \n",
        "model.add(Activation('relu')) \n",
        "model.add(MaxPooling2D(pool_size =(2, 2))) \n",
        "  \n",
        "model.add(Flatten()) \n",
        "model.add(Dense(64)) \n",
        "model.add(Activation('relu')) \n",
        "model.add(Dropout(0.5)) \n",
        "model.add(Dense(1)) \n",
        "model.add(Activation('sigmoid')) "
      ],
      "execution_count": 0,
      "outputs": []
    },
    {
      "cell_type": "code",
      "metadata": {
        "id": "m3S7AyPTghVc",
        "colab_type": "code",
        "colab": {}
      },
      "source": [
        "model.compile(loss ='binary_crossentropy', \n",
        "                     optimizer ='rmsprop', \n",
        "                   metrics =['accuracy']) \n",
        "  "
      ],
      "execution_count": 0,
      "outputs": []
    },
    {
      "cell_type": "code",
      "metadata": {
        "id": "VNSE18Lrgnpx",
        "colab_type": "code",
        "colab": {}
      },
      "source": [
        "  \n",
        "train_datagen = ImageDataGenerator( \n",
        "                rescale = 1. / 255, \n",
        "                 shear_range = 0.2, \n",
        "                  zoom_range = 0.2, \n",
        "            horizontal_flip = True) \n",
        "  "
      ],
      "execution_count": 0,
      "outputs": []
    },
    {
      "cell_type": "code",
      "metadata": {
        "id": "CBOyc4kRgrEG",
        "colab_type": "code",
        "colab": {}
      },
      "source": [
        "test_datagen = ImageDataGenerator(rescale = 1. / 255) "
      ],
      "execution_count": 0,
      "outputs": []
    },
    {
      "cell_type": "code",
      "metadata": {
        "id": "gC513al1gvOl",
        "colab_type": "code",
        "outputId": "bc4734c9-0a1a-4ff9-e10f-d8c5b686ef78",
        "colab": {
          "base_uri": "https://localhost:8080/",
          "height": 50
        }
      },
      "source": [
        "train_generator = train_datagen.flow_from_directory(train_data_dir, \n",
        "                              target_size =(img_width, img_height), \n",
        "                     batch_size = batch_size, class_mode ='binary') \n",
        "  \n",
        "validation_generator = test_datagen.flow_from_directory( \n",
        "                                    validation_data_dir, \n",
        "                   target_size =(img_width, img_height), \n",
        "          batch_size = batch_size, class_mode ='binary') \n",
        "  "
      ],
      "execution_count": 21,
      "outputs": [
        {
          "output_type": "stream",
          "text": [
            "Found 726 images belonging to 2 classes.\n",
            "Found 116 images belonging to 2 classes.\n"
          ],
          "name": "stdout"
        }
      ]
    },
    {
      "cell_type": "code",
      "metadata": {
        "id": "IGMZ2lc9g1OD",
        "colab_type": "code",
        "outputId": "7b575e4c-3fe8-41d1-fce5-5f78e8415994",
        "colab": {
          "base_uri": "https://localhost:8080/",
          "height": 457
        }
      },
      "source": [
        "model.fit_generator(train_generator, \n",
        "    steps_per_epoch = nb_train_samples // batch_size, \n",
        "    epochs = epochs, validation_data = validation_generator, \n",
        "    validation_steps = nb_validation_samples // batch_size) \n",
        "  "
      ],
      "execution_count": 22,
      "outputs": [
        {
          "output_type": "stream",
          "text": [
            "Epoch 1/10\n",
            "23/25 [==========================>...] - ETA: 28s - loss: 0.7508 - accuracy: 0.5598"
          ],
          "name": "stdout"
        },
        {
          "output_type": "stream",
          "text": [
            "/usr/local/lib/python3.6/dist-packages/keras/utils/data_utils.py:616: UserWarning: The input 3 could not be retrieved. It could be because a worker has died.\n",
            "  UserWarning)\n"
          ],
          "name": "stderr"
        },
        {
          "output_type": "stream",
          "text": [
            "25/25 [==============================] - 387s 15s/step - loss: 0.7415 - accuracy: 0.5675 - val_loss: 0.5218 - val_accuracy: 0.8854\n",
            "Epoch 2/10\n",
            " 9/25 [=========>....................] - ETA: 3:10 - loss: 0.6561 - accuracy: 0.6194"
          ],
          "name": "stdout"
        },
        {
          "output_type": "stream",
          "text": [
            "/usr/local/lib/python3.6/dist-packages/keras/utils/data_utils.py:616: UserWarning: The input 10 could not be retrieved. It could be because a worker has died.\n",
            "  UserWarning)\n"
          ],
          "name": "stderr"
        },
        {
          "output_type": "stream",
          "text": [
            "25/25 [==============================] - 289s 12s/step - loss: 0.6060 - accuracy: 0.6795 - val_loss: 0.5280 - val_accuracy: 0.6548\n",
            "Epoch 3/10\n",
            "25/25 [==============================] - 24s 970ms/step - loss: 0.5105 - accuracy: 0.7487 - val_loss: 0.4329 - val_accuracy: 0.8095\n",
            "Epoch 4/10\n",
            "25/25 [==============================] - 22s 871ms/step - loss: 0.4474 - accuracy: 0.8125 - val_loss: 0.4462 - val_accuracy: 0.7024\n",
            "Epoch 5/10\n",
            "25/25 [==============================] - 30s 1s/step - loss: 0.4131 - accuracy: 0.8103 - val_loss: 0.4598 - val_accuracy: 0.7917\n",
            "Epoch 6/10\n",
            "25/25 [==============================] - 22s 884ms/step - loss: 0.3981 - accuracy: 0.8487 - val_loss: 0.2849 - val_accuracy: 0.7262\n",
            "Epoch 7/10\n",
            "25/25 [==============================] - 24s 943ms/step - loss: 0.3574 - accuracy: 0.8475 - val_loss: 0.1012 - val_accuracy: 0.9524\n",
            "Epoch 8/10\n",
            "25/25 [==============================] - 23s 914ms/step - loss: 0.3778 - accuracy: 0.8667 - val_loss: 0.4292 - val_accuracy: 0.7857\n",
            "Epoch 9/10\n",
            "25/25 [==============================] - 24s 950ms/step - loss: 0.3143 - accuracy: 0.8850 - val_loss: 0.7434 - val_accuracy: 0.5729\n",
            "Epoch 10/10\n",
            "25/25 [==============================] - 24s 963ms/step - loss: 0.3507 - accuracy: 0.8475 - val_loss: 0.3453 - val_accuracy: 0.8333\n"
          ],
          "name": "stdout"
        },
        {
          "output_type": "execute_result",
          "data": {
            "text/plain": [
              "<keras.callbacks.callbacks.History at 0x7f1c83dfe5f8>"
            ]
          },
          "metadata": {
            "tags": []
          },
          "execution_count": 22
        }
      ]
    },
    {
      "cell_type": "code",
      "metadata": {
        "id": "WS-UFXgig7gg",
        "colab_type": "code",
        "colab": {}
      },
      "source": [
        "model.save_weights('plant_seedling_saved.h5') "
      ],
      "execution_count": 0,
      "outputs": []
    }
  ]
}